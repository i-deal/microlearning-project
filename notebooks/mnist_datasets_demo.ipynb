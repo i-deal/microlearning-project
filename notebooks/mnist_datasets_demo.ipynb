{
 "cells": [
  {
   "cell_type": "code",
   "execution_count": 1,
   "metadata": {},
   "outputs": [
    {
     "name": "stdout",
     "output_type": "stream",
     "text": [
      "/Users/stephenchen/projects/microlearning-project\n"
     ]
    },
    {
     "name": "stderr",
     "output_type": "stream",
     "text": [
      "/Users/stephenchen/opt/anaconda3/envs/microlearn/lib/python3.11/site-packages/IPython/core/magics/osm.py:417: UserWarning: This is now an optional IPython functionality, setting dhist requires you to install the `pickleshare` library.\n",
      "  self.shell.db['dhist'] = compress_dhist(dhist)[-100:]\n"
     ]
    }
   ],
   "source": [
    "%cd .."
   ]
  },
  {
   "cell_type": "code",
   "execution_count": 2,
   "metadata": {},
   "outputs": [
    {
     "data": {
      "text/plain": [
       "<torch._C.Generator at 0x140d05910>"
      ]
     },
     "execution_count": 2,
     "metadata": {},
     "output_type": "execute_result"
    }
   ],
   "source": [
    "from pathlib import Path\n",
    "import matplotlib.pyplot as plt\n",
    "import numpy as np\n",
    "import torch\n",
    "from torch.utils.data import DataLoader\n",
    "from torchvision import transforms\n",
    "from torchvision.datasets.mnist import MNIST\n",
    "\n",
    "# from custom package\n",
    "from src.utils import MNISTDatasets\n",
    "\n",
    "torch.manual_seed(518)"
   ]
  },
  {
   "cell_type": "markdown",
   "metadata": {},
   "source": [
    "### Setup for all tasks"
   ]
  },
  {
   "cell_type": "code",
   "execution_count": 3,
   "metadata": {},
   "outputs": [
    {
     "name": "stderr",
     "output_type": "stream",
     "text": [
      "/Users/stephenchen/opt/anaconda3/envs/microlearn/lib/python3.11/site-packages/torchvision/datasets/mnist.py:66: UserWarning: train_labels has been renamed targets\n",
      "  warnings.warn(\"train_labels has been renamed targets\")\n",
      "/Users/stephenchen/opt/anaconda3/envs/microlearn/lib/python3.11/site-packages/torchvision/datasets/mnist.py:71: UserWarning: test_labels has been renamed targets\n",
      "  warnings.warn(\"test_labels has been renamed targets\")\n"
     ]
    }
   ],
   "source": [
    "# Not using for now\n",
    "# Define a transformation pipeline for the MNIST dataset\n",
    "# mnist_transform = transforms.Compose([\n",
    "#     transforms.Resize((32, 32)),  # Resize the images to 32x32 pixels\n",
    "#     transforms.ToTensor(),  # Convert images to PyTorch tensors\n",
    "#     transforms.Normalize(mean=(0.1307,), std=(0.3081,))  # Normalize the images with mean and standard deviation\n",
    "# ])\n",
    "DATA_DIR = Path(\"data\")\n",
    "train = MNIST(DATA_DIR, transform=transforms.ToTensor(), train=True, download=True)\n",
    "test = MNIST(DATA_DIR, transform=transforms.ToTensor(), train=False, download=True)\n",
    "datasets = MNISTDatasets(train, test)"
   ]
  },
  {
   "cell_type": "markdown",
   "metadata": {},
   "source": [
    "## Ordinary Classification"
   ]
  },
  {
   "cell_type": "code",
   "execution_count": 8,
   "metadata": {},
   "outputs": [
    {
     "name": "stdout",
     "output_type": "stream",
     "text": [
      "shape of batch:  torch.Size([200, 28, 28])\n"
     ]
    },
    {
     "data": {
      "text/plain": [
       "Text(0.5, 1.0, 'Random digit: label=7')"
      ]
     },
     "execution_count": 8,
     "metadata": {},
     "output_type": "execute_result"
    },
    {
     "data": {
      "image/png": "[encoded data removed]",
      "text/plain": [
       "<Figure size 640x480 with 1 Axes>"
      ]
     },
     "metadata": {},
     "output_type": "display_data"
    }
   ],
   "source": [
    "num_train = 50000\n",
    "train_dset = datasets.get_standard_torch_dset(\"train\", 50000)\n",
    "random_obs = 5124\n",
    "obs, label = train_dset[random_obs]\n",
    "train_loader = DataLoader(train_dset, batch_size=200, shuffle=True)\n",
    "\n",
    "for X_batch, Y_batch in train_loader:\n",
    "    break\n",
    "\n",
    "print(\"shape of batch: \", X_batch.shape)\n",
    "\n",
    "plt.imshow(obs.numpy())\n",
    "plt.title(f\"Random digit: label={label.item()}\")"
   ]
  },
  {
   "cell_type": "markdown",
   "metadata": {},
   "source": [
    "## Pointer Value Retrieval (2x2 grid version)\n",
    "Top left pointer value points to location:\n",
    "- [0,1,2,3] -> Top right digit\n",
    "- [4,5,6] -> Bottom left\n",
    "- [7,8,9] -> Bottom right"
   ]
  },
  {
   "cell_type": "code",
   "execution_count": 9,
   "metadata": {},
   "outputs": [
    {
     "data": {
      "text/plain": [
       "Text(0.5, 1.0, 'Target label: 1')"
      ]
     },
     "execution_count": 9,
     "metadata": {},
     "output_type": "execute_result"
    },
    {
     "data": {
      "image/png": "[encoded data removed]",
      "text/plain": [
       "<Figure size 640x480 with 1 Axes>"
      ]
     },
     "metadata": {},
     "output_type": "display_data"
    }
   ],
   "source": [
    "# output dsets are torch.utils.data.dataset.Subset with .dataset and .labels properties\n",
    "# split: 50k train, 10k validation\n",
    "num_train = 50000\n",
    "train_dset, valid_dset = datasets.get_train_validation_split(num_train)\n",
    "block_dset, labels = datasets.construct_block_dataset(train_dset.dataset,\n",
    "                                                      train_dset.labels)\n",
    "obs = np.random.randint(0, num_train)\n",
    "plt.imshow(block_dset[obs].numpy())\n",
    "plt.title(f\"Target label: {labels[obs]}\")"
   ]
  }
 ],
 "metadata": {
  "kernelspec": {
   "display_name": "microlearn",
   "language": "python",
   "name": "python3"
  },
  "language_info": {
   "codemirror_mode": {
    "name": "ipython",
    "version": 3
   },
   "file_extension": ".py",
   "mimetype": "text/x-python",
   "name": "python",
   "nbconvert_exporter": "python",
   "pygments_lexer": "ipython3",
   "version": "3.11.9"
  }
 },
 "nbformat": 4,
 "nbformat_minor": 2
}
